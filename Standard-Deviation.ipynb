{
 "cells": [
  {
   "cell_type": "markdown",
   "metadata": {},
   "source": [
    "# Standard Deviation Calculation Step by Step"
   ]
  },
  {
   "cell_type": "markdown",
   "metadata": {},
   "source": [
    "If you want to calculate Standard Deviation then we have to perform operation in the following Order\n",
    "\n",
    "Data\n",
    "\n",
    "1. Mean\n",
    "2. Variance\n",
    "3. Standard Deviation\n",
    "\n",
    "The heights (at the shoulders) are: 600mm, 470mm, 170mm, 430mm and 300mm.\n",
    "\n",
    "Find out the Mean, the Variance, and the Standard Deviation.\n",
    "\n",
    "Your first step is to find the Mean:\n",
    "\n",
    "Answer:\n",
    "Mean \t= \t600 + 470 + 170 + 430 + 300 / 5 \n",
    "        = \t19705\n",
    "        = \t394\n",
    "\n",
    "To calculate the Variance, take each difference, square it, and then average the result:\n",
    "Variance\n",
    "\n",
    "\n",
    "    =   600-394 + 470-394 + 170-394 + 430-394 + 300-394\n",
    "    =   206+76+(-224)+36+(-94)\n",
    "σ2 \t= \t206^2 + 76^2 + (−224)^2 + 36^2 + (−94)^2 / 5\n",
    "  \t= \t42436 + 5776 + 50176 + 1296 + 88365\n",
    "  \t= \t108520 / 5\n",
    "  \t= \t21704\n",
    "\n",
    "And the Standard Deviation is just the square root of Variance, so:\n",
    "Standard Deviation\n",
    "σ \t= \t√21704\n",
    "  \t= \t147.32...\n",
    "  \t= \t147 (to the nearest mm)"
   ]
  },
  {
   "cell_type": "markdown",
   "metadata": {},
   "source": [
    "https://www.mathsisfun.com/data/standard-deviation.html"
   ]
  }
 ],
 "metadata": {
  "kernelspec": {
   "display_name": "Python 3",
   "language": "python",
   "name": "python3"
  },
  "language_info": {
   "codemirror_mode": {
    "name": "ipython",
    "version": 3
   },
   "file_extension": ".py",
   "mimetype": "text/x-python",
   "name": "python",
   "nbconvert_exporter": "python",
   "pygments_lexer": "ipython3",
   "version": "3.6.4"
  }
 },
 "nbformat": 4,
 "nbformat_minor": 2
}
